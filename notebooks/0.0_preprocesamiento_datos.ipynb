{
 "cells": [
  {
   "cell_type": "code",
   "id": "initial_id",
   "metadata": {
    "collapsed": true,
    "ExecuteTime": {
     "end_time": "2025-06-11T00:00:39.816994Z",
     "start_time": "2025-06-11T00:00:39.393768Z"
    }
   },
   "source": [
    "import pandas as pd\n",
    "import yaml\n",
    "\n",
    "with open(\"../config.yaml\", \"r\") as f:\n",
    "    config = yaml.safe_load(f)\n",
    "\n",
    "data=pd.read_excel(f'../{config[\"raw_data_path\"]}', skiprows=8)\n",
    "data.head()"
   ],
   "outputs": [
    {
     "data": {
      "text/plain": [
       "   Unnamed: 0  Unnamed: 1  Unnamed: 2  Unnamed: 3  Tiempo de Fermentacón (h)  \\\n",
       "0         NaN         NaN         NaN         NaN                          0   \n",
       "1         NaN         NaN         NaN         NaN                         12   \n",
       "2         NaN         NaN         NaN         NaN                         24   \n",
       "3         NaN         NaN         NaN         NaN                         36   \n",
       "4         NaN         NaN         NaN         NaN                         48   \n",
       "\n",
       "   Testigo (T1) Kéfir sin ultrasonicar  15 seg. 20 W/cm2 (T2)  \\\n",
       "0                            14.326143                14.7667   \n",
       "1                            19.984467                20.6397   \n",
       "2                            25.117400                27.2371   \n",
       "3                            34.613600                33.9348   \n",
       "4                            38.470333                38.2735   \n",
       "\n",
       "   1 min. 20 W/cm2 (T3)  15 seg. 34 W/cm2 (T4)  1 min. 34 W/cm2 (T5)  \n",
       "0             14.138033              14.138033             14.511633  \n",
       "1             18.845667              18.845667             18.398967  \n",
       "2             25.222100              25.222100             25.085400  \n",
       "3             29.064933              29.064933             31.471467  \n",
       "4             31.898500              31.898500             36.004833  "
      ],
      "text/html": [
       "<div>\n",
       "<style scoped>\n",
       "    .dataframe tbody tr th:only-of-type {\n",
       "        vertical-align: middle;\n",
       "    }\n",
       "\n",
       "    .dataframe tbody tr th {\n",
       "        vertical-align: top;\n",
       "    }\n",
       "\n",
       "    .dataframe thead th {\n",
       "        text-align: right;\n",
       "    }\n",
       "</style>\n",
       "<table border=\"1\" class=\"dataframe\">\n",
       "  <thead>\n",
       "    <tr style=\"text-align: right;\">\n",
       "      <th></th>\n",
       "      <th>Unnamed: 0</th>\n",
       "      <th>Unnamed: 1</th>\n",
       "      <th>Unnamed: 2</th>\n",
       "      <th>Unnamed: 3</th>\n",
       "      <th>Tiempo de Fermentacón (h)</th>\n",
       "      <th>Testigo (T1) Kéfir sin ultrasonicar</th>\n",
       "      <th>15 seg. 20 W/cm2 (T2)</th>\n",
       "      <th>1 min. 20 W/cm2 (T3)</th>\n",
       "      <th>15 seg. 34 W/cm2 (T4)</th>\n",
       "      <th>1 min. 34 W/cm2 (T5)</th>\n",
       "    </tr>\n",
       "  </thead>\n",
       "  <tbody>\n",
       "    <tr>\n",
       "      <th>0</th>\n",
       "      <td>NaN</td>\n",
       "      <td>NaN</td>\n",
       "      <td>NaN</td>\n",
       "      <td>NaN</td>\n",
       "      <td>0</td>\n",
       "      <td>14.326143</td>\n",
       "      <td>14.7667</td>\n",
       "      <td>14.138033</td>\n",
       "      <td>14.138033</td>\n",
       "      <td>14.511633</td>\n",
       "    </tr>\n",
       "    <tr>\n",
       "      <th>1</th>\n",
       "      <td>NaN</td>\n",
       "      <td>NaN</td>\n",
       "      <td>NaN</td>\n",
       "      <td>NaN</td>\n",
       "      <td>12</td>\n",
       "      <td>19.984467</td>\n",
       "      <td>20.6397</td>\n",
       "      <td>18.845667</td>\n",
       "      <td>18.845667</td>\n",
       "      <td>18.398967</td>\n",
       "    </tr>\n",
       "    <tr>\n",
       "      <th>2</th>\n",
       "      <td>NaN</td>\n",
       "      <td>NaN</td>\n",
       "      <td>NaN</td>\n",
       "      <td>NaN</td>\n",
       "      <td>24</td>\n",
       "      <td>25.117400</td>\n",
       "      <td>27.2371</td>\n",
       "      <td>25.222100</td>\n",
       "      <td>25.222100</td>\n",
       "      <td>25.085400</td>\n",
       "    </tr>\n",
       "    <tr>\n",
       "      <th>3</th>\n",
       "      <td>NaN</td>\n",
       "      <td>NaN</td>\n",
       "      <td>NaN</td>\n",
       "      <td>NaN</td>\n",
       "      <td>36</td>\n",
       "      <td>34.613600</td>\n",
       "      <td>33.9348</td>\n",
       "      <td>29.064933</td>\n",
       "      <td>29.064933</td>\n",
       "      <td>31.471467</td>\n",
       "    </tr>\n",
       "    <tr>\n",
       "      <th>4</th>\n",
       "      <td>NaN</td>\n",
       "      <td>NaN</td>\n",
       "      <td>NaN</td>\n",
       "      <td>NaN</td>\n",
       "      <td>48</td>\n",
       "      <td>38.470333</td>\n",
       "      <td>38.2735</td>\n",
       "      <td>31.898500</td>\n",
       "      <td>31.898500</td>\n",
       "      <td>36.004833</td>\n",
       "    </tr>\n",
       "  </tbody>\n",
       "</table>\n",
       "</div>"
      ]
     },
     "execution_count": 3,
     "metadata": {},
     "output_type": "execute_result"
    }
   ],
   "execution_count": 3
  },
  {
   "metadata": {
    "ExecuteTime": {
     "end_time": "2025-06-11T00:00:39.984365Z",
     "start_time": "2025-06-11T00:00:39.969079Z"
    }
   },
   "cell_type": "code",
   "source": [
    "data=data.drop(columns=[f'Unnamed: {k}' for k in range(4)])\n",
    "data.head()"
   ],
   "id": "f3e98bbd17e91c54",
   "outputs": [
    {
     "data": {
      "text/plain": [
       "   Tiempo de Fermentacón (h)  Testigo (T1) Kéfir sin ultrasonicar  \\\n",
       "0                          0                            14.326143   \n",
       "1                         12                            19.984467   \n",
       "2                         24                            25.117400   \n",
       "3                         36                            34.613600   \n",
       "4                         48                            38.470333   \n",
       "\n",
       "   15 seg. 20 W/cm2 (T2)  1 min. 20 W/cm2 (T3)  15 seg. 34 W/cm2 (T4)  \\\n",
       "0                14.7667             14.138033              14.138033   \n",
       "1                20.6397             18.845667              18.845667   \n",
       "2                27.2371             25.222100              25.222100   \n",
       "3                33.9348             29.064933              29.064933   \n",
       "4                38.2735             31.898500              31.898500   \n",
       "\n",
       "   1 min. 34 W/cm2 (T5)  \n",
       "0             14.511633  \n",
       "1             18.398967  \n",
       "2             25.085400  \n",
       "3             31.471467  \n",
       "4             36.004833  "
      ],
      "text/html": [
       "<div>\n",
       "<style scoped>\n",
       "    .dataframe tbody tr th:only-of-type {\n",
       "        vertical-align: middle;\n",
       "    }\n",
       "\n",
       "    .dataframe tbody tr th {\n",
       "        vertical-align: top;\n",
       "    }\n",
       "\n",
       "    .dataframe thead th {\n",
       "        text-align: right;\n",
       "    }\n",
       "</style>\n",
       "<table border=\"1\" class=\"dataframe\">\n",
       "  <thead>\n",
       "    <tr style=\"text-align: right;\">\n",
       "      <th></th>\n",
       "      <th>Tiempo de Fermentacón (h)</th>\n",
       "      <th>Testigo (T1) Kéfir sin ultrasonicar</th>\n",
       "      <th>15 seg. 20 W/cm2 (T2)</th>\n",
       "      <th>1 min. 20 W/cm2 (T3)</th>\n",
       "      <th>15 seg. 34 W/cm2 (T4)</th>\n",
       "      <th>1 min. 34 W/cm2 (T5)</th>\n",
       "    </tr>\n",
       "  </thead>\n",
       "  <tbody>\n",
       "    <tr>\n",
       "      <th>0</th>\n",
       "      <td>0</td>\n",
       "      <td>14.326143</td>\n",
       "      <td>14.7667</td>\n",
       "      <td>14.138033</td>\n",
       "      <td>14.138033</td>\n",
       "      <td>14.511633</td>\n",
       "    </tr>\n",
       "    <tr>\n",
       "      <th>1</th>\n",
       "      <td>12</td>\n",
       "      <td>19.984467</td>\n",
       "      <td>20.6397</td>\n",
       "      <td>18.845667</td>\n",
       "      <td>18.845667</td>\n",
       "      <td>18.398967</td>\n",
       "    </tr>\n",
       "    <tr>\n",
       "      <th>2</th>\n",
       "      <td>24</td>\n",
       "      <td>25.117400</td>\n",
       "      <td>27.2371</td>\n",
       "      <td>25.222100</td>\n",
       "      <td>25.222100</td>\n",
       "      <td>25.085400</td>\n",
       "    </tr>\n",
       "    <tr>\n",
       "      <th>3</th>\n",
       "      <td>36</td>\n",
       "      <td>34.613600</td>\n",
       "      <td>33.9348</td>\n",
       "      <td>29.064933</td>\n",
       "      <td>29.064933</td>\n",
       "      <td>31.471467</td>\n",
       "    </tr>\n",
       "    <tr>\n",
       "      <th>4</th>\n",
       "      <td>48</td>\n",
       "      <td>38.470333</td>\n",
       "      <td>38.2735</td>\n",
       "      <td>31.898500</td>\n",
       "      <td>31.898500</td>\n",
       "      <td>36.004833</td>\n",
       "    </tr>\n",
       "  </tbody>\n",
       "</table>\n",
       "</div>"
      ]
     },
     "execution_count": 4,
     "metadata": {},
     "output_type": "execute_result"
    }
   ],
   "execution_count": 4
  },
  {
   "metadata": {
    "ExecuteTime": {
     "end_time": "2025-06-11T00:00:40.569885Z",
     "start_time": "2025-06-11T00:00:40.529433Z"
    }
   },
   "cell_type": "code",
   "source": "data.columns\n",
   "id": "242d7c6271d3bc83",
   "outputs": [
    {
     "data": {
      "text/plain": [
       "Index(['Tiempo de Fermentacón (h)', 'Testigo (T1) Kéfir sin ultrasonicar',\n",
       "       '15 seg. 20 W/cm2 (T2)', '1 min. 20 W/cm2 (T3)',\n",
       "       '15 seg. 34 W/cm2 (T4)', '1 min. 34 W/cm2 (T5)'],\n",
       "      dtype='object')"
      ]
     },
     "execution_count": 5,
     "metadata": {},
     "output_type": "execute_result"
    }
   ],
   "execution_count": 5
  },
  {
   "metadata": {
    "ExecuteTime": {
     "end_time": "2025-06-11T00:00:41.827901Z",
     "start_time": "2025-06-11T00:00:41.154652Z"
    }
   },
   "cell_type": "code",
   "source": [
    "import seaborn as sns\n",
    "import matplotlib.pyplot as plt\n",
    "\n",
    "\n",
    "data_long = pd.melt(data, id_vars='Tiempo de Fermentacón (h)', var_name='Tratamiento', value_name='Concentración (g/cm3)')\n",
    "\n",
    "# Plot\n",
    "sns.lineplot(data=data_long, x='Tiempo de Fermentacón (h)', y='Concentración (g/cm3)', hue='Tratamiento')\n",
    "plt.show()"
   ],
   "id": "b0e3f1c55e720cbe",
   "outputs": [
    {
     "data": {
      "text/plain": [
       "<Figure size 640x480 with 1 Axes>"
      ],
      "image/png": "[encoded data removed]"
     },
     "metadata": {},
     "output_type": "display_data"
    }
   ],
   "execution_count": 6
  },
  {
   "metadata": {
    "ExecuteTime": {
     "end_time": "2025-06-11T00:00:41.957310Z",
     "start_time": "2025-06-11T00:00:41.947943Z"
    }
   },
   "cell_type": "code",
   "source": "data_long.head()",
   "id": "8d59c1b456d22557",
   "outputs": [
    {
     "data": {
      "text/plain": [
       "   Tiempo de Fermentacón (h)                          Tratamiento  \\\n",
       "0                          0  Testigo (T1) Kéfir sin ultrasonicar   \n",
       "1                         12  Testigo (T1) Kéfir sin ultrasonicar   \n",
       "2                         24  Testigo (T1) Kéfir sin ultrasonicar   \n",
       "3                         36  Testigo (T1) Kéfir sin ultrasonicar   \n",
       "4                         48  Testigo (T1) Kéfir sin ultrasonicar   \n",
       "\n",
       "   Concentración (g/cm3)  \n",
       "0              14.326143  \n",
       "1              19.984467  \n",
       "2              25.117400  \n",
       "3              34.613600  \n",
       "4              38.470333  "
      ],
      "text/html": [
       "<div>\n",
       "<style scoped>\n",
       "    .dataframe tbody tr th:only-of-type {\n",
       "        vertical-align: middle;\n",
       "    }\n",
       "\n",
       "    .dataframe tbody tr th {\n",
       "        vertical-align: top;\n",
       "    }\n",
       "\n",
       "    .dataframe thead th {\n",
       "        text-align: right;\n",
       "    }\n",
       "</style>\n",
       "<table border=\"1\" class=\"dataframe\">\n",
       "  <thead>\n",
       "    <tr style=\"text-align: right;\">\n",
       "      <th></th>\n",
       "      <th>Tiempo de Fermentacón (h)</th>\n",
       "      <th>Tratamiento</th>\n",
       "      <th>Concentración (g/cm3)</th>\n",
       "    </tr>\n",
       "  </thead>\n",
       "  <tbody>\n",
       "    <tr>\n",
       "      <th>0</th>\n",
       "      <td>0</td>\n",
       "      <td>Testigo (T1) Kéfir sin ultrasonicar</td>\n",
       "      <td>14.326143</td>\n",
       "    </tr>\n",
       "    <tr>\n",
       "      <th>1</th>\n",
       "      <td>12</td>\n",
       "      <td>Testigo (T1) Kéfir sin ultrasonicar</td>\n",
       "      <td>19.984467</td>\n",
       "    </tr>\n",
       "    <tr>\n",
       "      <th>2</th>\n",
       "      <td>24</td>\n",
       "      <td>Testigo (T1) Kéfir sin ultrasonicar</td>\n",
       "      <td>25.117400</td>\n",
       "    </tr>\n",
       "    <tr>\n",
       "      <th>3</th>\n",
       "      <td>36</td>\n",
       "      <td>Testigo (T1) Kéfir sin ultrasonicar</td>\n",
       "      <td>34.613600</td>\n",
       "    </tr>\n",
       "    <tr>\n",
       "      <th>4</th>\n",
       "      <td>48</td>\n",
       "      <td>Testigo (T1) Kéfir sin ultrasonicar</td>\n",
       "      <td>38.470333</td>\n",
       "    </tr>\n",
       "  </tbody>\n",
       "</table>\n",
       "</div>"
      ]
     },
     "execution_count": 7,
     "metadata": {},
     "output_type": "execute_result"
    }
   ],
   "execution_count": 7
  },
  {
   "metadata": {
    "ExecuteTime": {
     "end_time": "2025-06-11T00:00:42.454585Z",
     "start_time": "2025-06-11T00:00:42.436050Z"
    }
   },
   "cell_type": "code",
   "source": "",
   "id": "5582c6b4a1aa1149",
   "outputs": [],
   "execution_count": null
  }
 ],
 "metadata": {
  "kernelspec": {
   "display_name": "Python 3",
   "language": "python",
   "name": "python3"
  },
  "language_info": {
   "codemirror_mode": {
    "name": "ipython",
    "version": 2
   },
   "file_extension": ".py",
   "mimetype": "text/x-python",
   "name": "python",
   "nbconvert_exporter": "python",
   "pygments_lexer": "ipython2",
   "version": "2.7.6"
  }
 },
 "nbformat": 4,
 "nbformat_minor": 5
}
