{
 "cells": [
  {
   "metadata": {},
   "cell_type": "markdown",
   "source": [
    "## Instalación y uso de Jupyter Book\n",
    "El objetivo de este notebook the jupyter es tener registro puntual del proceso de instalación y uso de la tecnología de 'Jupyter Book' paso por paso siguiendo este [tutorial](https://jupyterbook.org/en/stable/start/your-first-book.html).\n"
   ],
   "id": "cad0b8fa7135023d"
  },
  {
   "cell_type": "code",
   "id": "initial_id",
   "metadata": {
    "collapsed": true,
    "ExecuteTime": {
     "end_time": "2025-06-08T01:38:01.675994Z",
     "start_time": "2025-06-08T01:37:56.204276Z"
    }
   },
   "source": "!conda install -y -c conda-forge jupyter-book\n",
   "outputs": [
    {
     "name": "stdout",
     "output_type": "stream",
     "text": [
      "Channels:\r\n",
      " - conda-forge\r\n",
      " - defaults\r\n",
      "Platform: osx-arm64\r\n",
      "Collecting package metadata (repodata.json): ^C\r\n",
      "| "
     ]
    }
   ],
   "execution_count": 4
  },
  {
   "metadata": {
    "ExecuteTime": {
     "end_time": "2025-06-08T01:38:02.213548Z",
     "start_time": "2025-06-08T01:38:01.706552Z"
    }
   },
   "cell_type": "code",
   "source": "!jupyter-book --help",
   "id": "89f6a55123819fd2",
   "outputs": [
    {
     "name": "stdout",
     "output_type": "stream",
     "text": [
      "Usage: jupyter-book [OPTIONS] COMMAND [ARGS]...\r\n",
      "\r\n",
      "  Build and manage books with Jupyter.\r\n",
      "\r\n",
      "Options:\r\n",
      "  --version   Show the version and exit.\r\n",
      "  -h, --help  Show this message and exit.\r\n",
      "\r\n",
      "Commands:\r\n",
      "  build   Convert your book's or page's content to HTML or a PDF.\r\n",
      "  clean   Empty the _build directory except jupyter_cache.\r\n",
      "  config  Inspect your _config.yml file.\r\n",
      "  create  Create a Jupyter Book template that you can customize.\r\n",
      "  myst    Manipulate MyST markdown files.\r\n",
      "  toc     Command-line for sphinx-external-toc.\r\n"
     ]
    }
   ],
   "execution_count": 5
  },
  {
   "metadata": {
    "ExecuteTime": {
     "end_time": "2025-06-08T01:39:56.863762Z",
     "start_time": "2025-06-08T01:39:56.394236Z"
    }
   },
   "cell_type": "code",
   "source": [
    "# Creamos un nuevo libro\n",
    "!jupyter-book create ../kefir_ajuste_book/"
   ],
   "id": "3e74b27d8f2249ff",
   "outputs": [
    {
     "name": "stdout",
     "output_type": "stream",
     "text": [
      "\r\n",
      "\u001B[92m===============================================================================\u001B[0m\r\n",
      "\r\n",
      "Your book template can be found at\r\n",
      "\r\n",
      "    ../kefir_ajuste_book/\r\n",
      "\r\n",
      "\u001B[92m===============================================================================\u001B[0m\r\n",
      "\r\n"
     ]
    }
   ],
   "execution_count": 7
  },
  {
   "metadata": {
    "ExecuteTime": {
     "end_time": "2025-06-08T01:41:15.917259Z",
     "start_time": "2025-06-08T01:41:15.762816Z"
    }
   },
   "cell_type": "code",
   "source": [
    "# Vemos la estructura predeterminada:\n",
    "!$tree ../kefir_ajuste_book/"
   ],
   "id": "a8e58251b87aba74",
   "outputs": [
    {
     "name": "stdout",
     "output_type": "stream",
     "text": [
      "zsh:1: permission denied: ../kefir_ajuste_book/\r\n"
     ]
    }
   ],
   "execution_count": 11
  },
  {
   "metadata": {},
   "cell_type": "markdown",
   "source": "### Configuración de archivo `_config.yml`",
   "id": "e82c191a7f0c78b4"
  },
  {
   "metadata": {},
   "cell_type": "markdown",
   "source": [
    "Este es el contenido predeterminado:\n",
    "```yml\n",
    "# Book settings\n",
    "# Learn more at https://jupyterbook.org/customize/config.html\n",
    "\n",
    "title: My sample book\n",
    "author: The Jupyter Book Community\n",
    "logo: logo.png\n",
    "\n",
    "# Force re-execution of notebooks on each build.\n",
    "# See https://jupyterbook.org/content/execute.html\n",
    "execute:\n",
    "  execute_notebooks: force\n",
    "\n",
    "# Define the name of the latex output file for PDF builds\n",
    "latex:\n",
    "  latex_documents:\n",
    "    targetname: book.tex\n",
    "\n",
    "# Add a bibtex file so that we can create citations\n",
    "bibtex_bibfiles:\n",
    "  - references.bib\n",
    "\n",
    "# Information about where the book exists on the web\n",
    "repository:\n",
    "  url: https://github.com/executablebooks/jupyter-book  # Online location of your book\n",
    "  path_to_book: docs  # Optional path to your book, relative to the repository root\n",
    "  branch: master  # Which branch of the repository should be used when creating links (optional)\n",
    "\n",
    "# Add GitHub buttons to your book\n",
    "# See https://jupyterbook.org/customize/config.html#add-a-link-to-your-repository\n",
    "html:\n",
    "  use_issues_button: true\n",
    "  use_repository_button: true\n",
    "```"
   ],
   "id": "a3731a3f0d4c6d3b"
  },
  {
   "metadata": {},
   "cell_type": "code",
   "outputs": [],
   "execution_count": null,
   "source": "",
   "id": "4110ccfef9ca7970"
  }
 ],
 "metadata": {
  "kernelspec": {
   "display_name": "Python 3",
   "language": "python",
   "name": "python3"
  },
  "language_info": {
   "codemirror_mode": {
    "name": "ipython",
    "version": 2
   },
   "file_extension": ".py",
   "mimetype": "text/x-python",
   "name": "python",
   "nbconvert_exporter": "python",
   "pygments_lexer": "ipython2",
   "version": "2.7.6"
  }
 },
 "nbformat": 4,
 "nbformat_minor": 5
}
